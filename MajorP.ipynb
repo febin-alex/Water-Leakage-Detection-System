{
  "cells": [
    {
      "cell_type": "markdown",
      "metadata": {
        "id": "view-in-github",
        "colab_type": "text"
      },
      "source": [
        "<a href=\"https://colab.research.google.com/github/febin-alex/Water-Leakage-Detection-System/blob/main/MajorP.ipynb\" target=\"_parent\"><img src=\"https://colab.research.google.com/assets/colab-badge.svg\" alt=\"Open In Colab\"/></a>"
      ]
    },
    {
      "cell_type": "code",
      "execution_count": null,
      "metadata": {
        "colab": {
          "base_uri": "https://localhost:8080/"
        },
        "id": "TTyeY5B7M3Xf",
        "outputId": "acf54aa9-7d87-4c75-f658-a4043ebfe1d9"
      },
      "outputs": [
        {
          "output_type": "stream",
          "name": "stdout",
          "text": [
            "Looking in indexes: https://pypi.org/simple, https://us-python.pkg.dev/colab-wheels/public/simple/\n",
            "Collecting keras-preprocessing\n",
            "  Downloading Keras_Preprocessing-1.1.2-py2.py3-none-any.whl (42 kB)\n",
            "\u001b[2K     \u001b[90m━━━━━━━━━━━━━━━━━━━━━━━━━━━━━━━━━━━━━━━━\u001b[0m \u001b[32m42.6/42.6 kB\u001b[0m \u001b[31m2.5 MB/s\u001b[0m eta \u001b[36m0:00:00\u001b[0m\n",
            "\u001b[?25hRequirement already satisfied: numpy>=1.9.1 in /usr/local/lib/python3.10/dist-packages (from keras-preprocessing) (1.22.4)\n",
            "Requirement already satisfied: six>=1.9.0 in /usr/local/lib/python3.10/dist-packages (from keras-preprocessing) (1.16.0)\n",
            "Installing collected packages: keras-preprocessing\n",
            "Successfully installed keras-preprocessing-1.1.2\n"
          ]
        }
      ],
      "source": [
        "\n",
        "#prerequsite\n",
        "\n",
        "!pip install keras-preprocessing"
      ]
    },
    {
      "cell_type": "code",
      "execution_count": null,
      "metadata": {
        "colab": {
          "base_uri": "https://localhost:8080/"
        },
        "id": "fchbnpiBHQ-F",
        "outputId": "ab6d7d13-cdc5-4b6c-aea1-f224deb715da"
      },
      "outputs": [
        {
          "output_type": "stream",
          "name": "stdout",
          "text": [
            "Mounted at /content/gdrive\n"
          ]
        }
      ],
      "source": [
        "\n",
        "#mounting to drive for saving dataset\n",
        "\n",
        "import random\n",
        "import csv\n",
        "from google.colab import drive\n",
        "drive.mount('/content/gdrive')"
      ]
    },
    {
      "cell_type": "code",
      "execution_count": null,
      "metadata": {
        "id": "0Sr6_OJ_HXNQ"
      },
      "outputs": [],
      "source": [
        "\n",
        "#write to a CSV dataset\n",
        "\n",
        "with open('dataset.csv', 'w', newline='') as file:\n",
        "    writer = csv.writer(file)\n",
        "\n",
        "#dataset header with daily water usage of 20houses + leak yes or no 1 or 0\n",
        "\n",
        "    writer.writerow([\"flow\", \"material\", \"diameter\", \"leak\"])\n",
        "    i=0\n",
        "    material=0\n",
        "    flow=0\n",
        "    diameter=0.0\n",
        "#data for 365 days\n",
        "    di_list = [0.5,1]\n",
        "\n",
        "    while(i<300):\n",
        "     \n",
        "      \n",
        "#random values for houses from 0 to 100l\n",
        "\n",
        "      flow=random.randint(0,100)\n",
        "      material=random.randint(1,3)\n",
        "      diameter=random.choice(di_list)\n",
        "      \n",
        "      i+=1\n",
        "\n",
        "#output is sum of daily usage of 20 houses in an area\n",
        "\n",
        "#if output is greater than an arbitrary valuue 1000l daily then there is leak\n",
        "\n",
        "      if(diameter==0.5):\n",
        "        if(material==1):\n",
        "          if(flow<5 or flow>30):\n",
        "            leak=1\n",
        "          else:\n",
        "            leak=0\n",
        "        elif(material==2):\n",
        "          if(flow<3 or flow>35):\n",
        "            leak=1\n",
        "          else:\n",
        "            leak=0\n",
        "        else:\n",
        "          if(flow<1 or flow>40):\n",
        "            leak=1\n",
        "          else:\n",
        "            leak=0\n",
        "      else:\n",
        "        if(material==1):\n",
        "          if(flow<5 or flow>40):\n",
        "            leak=1\n",
        "          else:\n",
        "            leak=0\n",
        "        elif(material==2):\n",
        "          if(flow<3 or flow>45):\n",
        "            leak=1\n",
        "          else:\n",
        "            leak=0\n",
        "        else:\n",
        "          if(flow<1 or flow>50):\n",
        "            leak=1\n",
        "          else:\n",
        "            leak=0\n",
        "      \n",
        "\n",
        "        \n",
        "\n",
        "\n",
        "#write values\n",
        "      \n",
        "      writer.writerow([flow,material,diameter,leak])"
      ]
    },
    {
      "cell_type": "code",
      "execution_count": null,
      "metadata": {
        "colab": {
          "base_uri": "https://localhost:8080/"
        },
        "id": "LaZwm6KwMVE5",
        "outputId": "e5a9c68f-1348-4137-c028-4a961e663341"
      },
      "outputs": [
        {
          "output_type": "stream",
          "name": "stdout",
          "text": [
            "Epoch 1/10\n",
            "4/4 [==============================] - 10s 26ms/step - loss: 0.7458 - accuracy: 0.3708\n",
            "Epoch 2/10\n",
            "4/4 [==============================] - 0s 23ms/step - loss: 0.7239 - accuracy: 0.3708\n",
            "Epoch 3/10\n",
            "4/4 [==============================] - 0s 22ms/step - loss: 0.6993 - accuracy: 0.4417\n",
            "Epoch 4/10\n",
            "4/4 [==============================] - 0s 22ms/step - loss: 0.6836 - accuracy: 0.6125\n",
            "Epoch 5/10\n",
            "4/4 [==============================] - 0s 22ms/step - loss: 0.6625 - accuracy: 0.6292\n",
            "Epoch 6/10\n",
            "4/4 [==============================] - 0s 23ms/step - loss: 0.6469 - accuracy: 0.6292\n",
            "Epoch 7/10\n",
            "4/4 [==============================] - 0s 23ms/step - loss: 0.6262 - accuracy: 0.6292\n",
            "Epoch 8/10\n",
            "4/4 [==============================] - 0s 23ms/step - loss: 0.6089 - accuracy: 0.6292\n",
            "Epoch 9/10\n",
            "4/4 [==============================] - 0s 23ms/step - loss: 0.5691 - accuracy: 0.6292\n",
            "Epoch 10/10\n",
            "4/4 [==============================] - 0s 24ms/step - loss: 0.5229 - accuracy: 0.7083\n",
            "Accuracy: 0.800000011920929\n"
          ]
        }
      ],
      "source": [
        "\n",
        "#Code for bilstm\n",
        "\n",
        "\n",
        "import numpy as np\n",
        "import pandas as pd\n",
        "from keras_preprocessing.sequence import pad_sequences\n",
        "from keras.models import Sequential\n",
        "from keras.layers import Dense, LSTM, Bidirectional\n",
        "from sklearn.model_selection import train_test_split\n",
        "\n",
        "# Load the water dataset\n",
        "data = pd.read_csv(\"dataset.csv\")\n",
        "\n",
        "# Prepare the inputs for the model\n",
        "x = data.values[:,:-1]\n",
        "y = data.values[:,-1]\n",
        "\n",
        "\n",
        "# Remove the rows with non-numeric values\n",
        "data = data.apply(pd.to_numeric, errors='coerce')\n",
        "data = data.dropna()\n",
        "\n",
        "\n",
        "# Preprocess the inputs\n",
        "max_length = 30\n",
        "x = pad_sequences(x, maxlen=max_length, dtype='float32')\n",
        "\n",
        "# Convert the target to categorical\n",
        "y = np.array(y, dtype='float32')\n",
        "\n",
        "X_train, X_test, Y_train, Y_test = train_test_split (x, y, test_size=0.2)\n",
        "\n",
        "# Build the model\n",
        "model = Sequential()\n",
        "model.add(Bidirectional(LSTM(32), input_shape=(max_length, 1)))\n",
        "model.add(Dense(1, activation='sigmoid'))\n",
        "\n",
        "# Compile the model\n",
        "model.compile(loss='binary_crossentropy', optimizer='adam', metrics=['accuracy'])\n",
        "\n",
        "# Train the model\n",
        "model.fit(X_train, Y_train, epochs=10, batch_size=64)\n",
        "\n",
        "# Evaluate the model\n",
        "scores = model.evaluate(X_test, Y_test, verbose=0)\n",
        "print(\"Accuracy:\", scores[1])"
      ]
    },
    {
      "cell_type": "code",
      "source": [
        "import pickle\n",
        "filename='model.sav'\n",
        "pickle.dump(model, open(filename,'wb'))"
      ],
      "metadata": {
        "id": "sXNy496W0moB"
      },
      "execution_count": null,
      "outputs": []
    },
    {
      "cell_type": "code",
      "source": [
        "loaded_model=pickle.load(open(filename,'rb'))\n",
        "result=loaded_model.evaluate(X_test,Y_test, verbose=0)\n",
        "print(result)\n",
        "print(\"Accuracy:\", scores[1])"
      ],
      "metadata": {
        "colab": {
          "base_uri": "https://localhost:8080/"
        },
        "id": "UAMCXbwa1B-I",
        "outputId": "ff695633-f1f6-4637-9cc9-782cd6035c85"
      },
      "execution_count": null,
      "outputs": [
        {
          "output_type": "stream",
          "name": "stdout",
          "text": [
            "[0.4506792724132538, 0.800000011920929]\n",
            "Accuracy: 0.800000011920929\n"
          ]
        }
      ]
    }
  ],
  "metadata": {
    "colab": {
      "provenance": [],
      "include_colab_link": true
    },
    "kernelspec": {
      "display_name": "Python 3",
      "name": "python3"
    },
    "language_info": {
      "name": "python"
    }
  },
  "nbformat": 4,
  "nbformat_minor": 0
}